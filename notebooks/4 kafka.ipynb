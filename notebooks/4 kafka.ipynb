{
 "cells": [
  {
   "cell_type": "code",
   "execution_count": null,
   "metadata": {},
   "outputs": [],
   "source": [
    "!pip install -r ../src/train/requirements.txt --quiet\n",
    "!pip install kafka-python --quiet"
   ]
  },
  {
   "cell_type": "markdown",
   "metadata": {},
   "source": [
    "Restart the Jupyter kernel from the menu after installing pip packages."
   ]
  },
  {
   "cell_type": "code",
   "execution_count": null,
   "metadata": {},
   "outputs": [],
   "source": [
    "import pandas as pd\n",
    "import numpy as np"
   ]
  },
  {
   "cell_type": "code",
   "execution_count": null,
   "metadata": {},
   "outputs": [],
   "source": [
    "import dvc.api\n",
    "import s3fs\n",
    "import os\n",
    "\n",
    "resource_url = dvc.api.get_url(\n",
    "    path='creditcard-produce.csv',\n",
    "    repo=os.environ['DATA_REPO'],\n",
    "    rev='v1.0')\n",
    "\n",
    "print(\"Data is from this S3 bucket:\\n{}\".format(resource_url))\n",
    "\n",
    "# Pandas doens't support endpoint_url\n",
    "# https://github.com/pandas-dev/pandas/pull/29050\n",
    "fs = s3fs.S3FileSystem(client_kwargs={'endpoint_url': os.environ['S3_ENDPOINT_URL']})\n",
    "df = pd.read_csv(fs.open(resource_url))"
   ]
  },
  {
   "cell_type": "code",
   "execution_count": null,
   "metadata": {},
   "outputs": [],
   "source": [
    "df.head()"
   ]
  },
  {
   "cell_type": "code",
   "execution_count": null,
   "metadata": {},
   "outputs": [],
   "source": [
    "topic='{}-prod'.format(os.environ['WORKSHOP_USER_ID'])\n",
    "print('Kafka topic: {}'.format(topic))"
   ]
  },
  {
   "cell_type": "code",
   "execution_count": null,
   "metadata": {},
   "outputs": [],
   "source": [
    "bootstrap_servers='kafka-kafka-bootstrap.labs-kafka.svc:9092'"
   ]
  },
  {
   "cell_type": "code",
   "execution_count": null,
   "metadata": {},
   "outputs": [],
   "source": [
    "from kafka import KafkaProducer, KafkaConsumer\n",
    "producer = KafkaProducer(value_serializer=lambda x: x.encode('utf-8'), \\\n",
    "                         bootstrap_servers=bootstrap_servers)\n",
    "print('Is connected? {}'.format(producer.bootstrap_connected()))"
   ]
  },
  {
   "cell_type": "code",
   "execution_count": null,
   "metadata": {},
   "outputs": [],
   "source": [
    "def send(row):\n",
    "    producer.send(topic,                              \n",
    "                  value=str(row.values.tolist()))\n",
    "    print('Customer ID: {} Class: {}'.format(row['Customer_ID'], row['Class']))"
   ]
  },
  {
   "cell_type": "code",
   "execution_count": null,
   "metadata": {},
   "outputs": [],
   "source": [
    "_ = df.apply(send, axis=1)"
   ]
  }
 ],
 "metadata": {
  "kernelspec": {
   "display_name": "Python 3",
   "language": "python",
   "name": "python3"
  },
  "language_info": {
   "codemirror_mode": {
    "name": "ipython",
    "version": 3
   },
   "file_extension": ".py",
   "mimetype": "text/x-python",
   "name": "python",
   "nbconvert_exporter": "python",
   "pygments_lexer": "ipython3",
   "version": "3.6.3"
  }
 },
 "nbformat": 4,
 "nbformat_minor": 2
}